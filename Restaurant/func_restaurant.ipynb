{
 "cells": [
  {
   "cell_type": "code",
   "execution_count": 1,
   "metadata": {
    "collapsed": true
   },
   "outputs": [],
   "source": [
    "import pandas as pd\n",
    "import numpy as np\n",
    "import matplotlib.pyplot as plt\n",
    "import os\n",
    "import seaborn as sns\n",
    "import glob\n",
    "import re\n",
    "from datetime import datetime\n",
    "import matplotlib.pyplot as plt\n",
    "import numpy as np"
   ]
  },
  {
   "cell_type": "code",
   "execution_count": 2,
   "metadata": {
    "collapsed": true
   },
   "outputs": [],
   "source": [
    "def import_data(file_name):\n",
    "#input: csv file name as a string\n",
    "    data = pd.read_csv(file_name)\n",
    "    data['As Of Date'] = pd.to_datetime(data['As Of Date'], format = \"%m/%d/%Y %H:%M\")"
   ]
  },
  {
   "cell_type": "code",
   "execution_count": 3,
   "metadata": {
    "collapsed": true
   },
   "outputs": [],
   "source": [
    "def describe_data(df):\n",
    "    print df['Ticker Symbol'].unique()\n",
    "    print df['Username'].unique()"
   ]
  },
  {
   "cell_type": "code",
   "execution_count": 4,
   "metadata": {
    "collapsed": true
   },
   "outputs": [],
   "source": [
    "def likes_over_time(df):\n",
    "    plt.subplot(4, 2, 1)\n",
    "    plt.title('Jack in the Box')\n",
    "    df_jack = data[data['Username']=='jackinthebox']\n",
    "    plt.plot(df_jack['As Of Date'],df_jack['Likes'])\n",
    "\n",
    "    plt.subplot(4, 2, 2)\n",
    "    plt.title('Wendys')\n",
    "    df_wendys = data[data['Username']=='wendys']\n",
    "    plt.plot(df_wendys['As Of Date'],df_wendys['Likes'])\n",
    "\n",
    "    plt.subplot(4, 2, 3)\n",
    "    plt.title('McDonalds US')\n",
    "    df_mcd_us = data[data['Username']=='McDonaldsUS']\n",
    "    plt.plot(df_mcd_us['As Of Date'],df_mcd_us['Likes'])\n",
    "\n",
    "    plt.subplot(4, 2, 4)\n",
    "    plt.title('McDonalds Latino')\n",
    "    df_mcd_lat = data[data['Username']=='McDonaldsLatino']\n",
    "    plt.plot(df_mcd_lat['As Of Date'],df_mcd_lat['Likes'])\n",
    "\n",
    "    plt.subplot(4, 2, 5)\n",
    "    plt.title('Sonic')\n",
    "    df_sonic = data[data['Username']=='sonicdrivein']\n",
    "    plt.plot(df_sonic['As Of Date'],df_sonic['Likes'])\n",
    "\n",
    "    plt.subplot(4, 2, 6)\n",
    "    plt.title('Burger King')\n",
    "    df_bk = data[data['Username']=='burgerking']\n",
    "    plt.plot(df_bk['As Of Date'],df_bk['Likes'])\n",
    "\n",
    "    plt.subplot(4, 2, 7)\n",
    "    plt.title('Tim Hortons US')\n",
    "    df_tim = data[data['Username']=='TimHortonsUS']\n",
    "    plt.plot(df_tim['As Of Date'],df_tim['Likes'])\n",
    "\n",
    "    plt.show()"
   ]
  },
  {
   "cell_type": "code",
   "execution_count": 5,
   "metadata": {
    "collapsed": true
   },
   "outputs": [],
   "source": [
    "def compare_likes(df,name1,name2):\n",
    "    fig, ax1 = plt.subplots()\n",
    "    fig.suptitle('Facebook Likes Over Time')\n",
    "\n",
    "    color = 'tab:red'\n",
    "    ax1.set_xlabel('Time (months)')\n",
    "    ax1.set_ylabel(name1, color=color)\n",
    "    df_1 = data[data['Username']==name1]\n",
    "    #df_1 = df_1[df_1['As Of Date'] >= '2015-12']\n",
    "    ax1.plot(df_1['As Of Date'],df_1['Likes'], color=color)\n",
    "    ax1.tick_params(axis='y', labelcolor=color)\n",
    "    ax2 = ax1.twinx()  # instantiate a second axes that shares the same x-axis\n",
    "    color = 'tab:blue'\n",
    "    ax2.set_ylabel(name2, color=color)  # we already handled the x-label with ax1\n",
    "    df_2 = data[data['Username']==name2]\n",
    "    #df_2 = df_2[df_2['As Of Date'] >= '2015-12']\n",
    "    ax2.plot(df_2['As Of Date'],df_2['Likes'], color=color)\n",
    "    ax2.tick_params(axis='y', labelcolor=color)\n",
    "    fig.tight_layout()  # otherwise the right y-label is slightly clipped\n",
    "    plt.show()"
   ]
  },
  {
   "cell_type": "code",
   "execution_count": 6,
   "metadata": {
    "collapsed": true
   },
   "outputs": [],
   "source": [
    "def compare_likes_date(df,name1,name2,date):\n",
    "    fig, ax1 = plt.subplots()\n",
    "    fig.suptitle('Facebook Likes Over Time')\n",
    "\n",
    "    color = 'tab:red'\n",
    "    ax1.set_xlabel('Time (months)')\n",
    "    ax1.set_ylabel(name1, color=color)\n",
    "    df_1 = data[data['Username']==name1]\n",
    "    df_1 = df_1[df_1['As Of Date'] >= date]\n",
    "    ax1.plot(df_1['As Of Date'],df_1['Likes'], color=color)\n",
    "    ax1.tick_params(axis='y', labelcolor=color)\n",
    "    ax2 = ax1.twinx()  # instantiate a second axes that shares the same x-axis\n",
    "    color = 'tab:blue'\n",
    "    ax2.set_ylabel(name2, color=color)  # we already handled the x-label with ax1\n",
    "    df_2 = data[data['Username']==name2]\n",
    "    df_2 = df_2[df_2['As Of Date'] >= date]\n",
    "    ax2.plot(df_2['As Of Date'],df_2['Likes'], color=color)\n",
    "    ax2.tick_params(axis='y', labelcolor=color)\n",
    "    fig.tight_layout()  # otherwise the right y-label is slightly clipped\n",
    "    plt.show()"
   ]
  },
  {
   "cell_type": "code",
   "execution_count": 7,
   "metadata": {
    "collapsed": true
   },
   "outputs": [],
   "source": [
    "import_data('burgers.csv')"
   ]
  },
  {
   "cell_type": "code",
   "execution_count": 8,
   "metadata": {},
   "outputs": [
    {
     "ename": "NameError",
     "evalue": "name 'data' is not defined",
     "output_type": "error",
     "traceback": [
      "\u001b[1;31m---------------------------------------------------------------------------\u001b[0m",
      "\u001b[1;31mNameError\u001b[0m                                 Traceback (most recent call last)",
      "\u001b[1;32m<ipython-input-8-982c61c4998e>\u001b[0m in \u001b[0;36m<module>\u001b[1;34m()\u001b[0m\n\u001b[1;32m----> 1\u001b[1;33m \u001b[0mdescribe_data\u001b[0m\u001b[1;33m(\u001b[0m\u001b[0mdata\u001b[0m\u001b[1;33m)\u001b[0m\u001b[1;33m\u001b[0m\u001b[0m\n\u001b[0m",
      "\u001b[1;31mNameError\u001b[0m: name 'data' is not defined"
     ]
    }
   ],
   "source": [
    "describe_data(data)"
   ]
  },
  {
   "cell_type": "code",
   "execution_count": null,
   "metadata": {},
   "outputs": [],
   "source": [
    "compare_likes(data,'jackinthebox','burgerking')"
   ]
  },
  {
   "cell_type": "code",
   "execution_count": null,
   "metadata": {},
   "outputs": [],
   "source": [
    "compare_likes_date(data,'jackinthebox','burgerking','2015-11')"
   ]
  }
 ],
 "metadata": {
  "kernelspec": {
   "display_name": "Python 2",
   "language": "python",
   "name": "python2"
  },
  "language_info": {
   "codemirror_mode": {
    "name": "ipython",
    "version": 2
   },
   "file_extension": ".py",
   "mimetype": "text/x-python",
   "name": "python",
   "nbconvert_exporter": "python",
   "pygments_lexer": "ipython2",
   "version": "2.7.13"
  }
 },
 "nbformat": 4,
 "nbformat_minor": 2
}
